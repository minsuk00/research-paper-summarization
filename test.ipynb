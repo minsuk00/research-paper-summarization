{
 "cells": [
  {
   "cell_type": "code",
   "execution_count": 7,
   "metadata": {},
   "outputs": [],
   "source": [
    "from langchain.document_loaders import PyPDFLoader\n",
    "from langchain.embeddings import OpenAIEmbeddings\n",
    "from langchain.vectorstores import Chroma\n",
    "from langchain.chains import ChatVectorDBChain\n",
    "from langchain.llms import OpenAI\n",
    "from langchain.callbacks.manager import CallbackManager\n",
    "from langchain.callbacks.streaming_stdout import StreamingStdOutCallbackHandler\n",
    "from langchain_community.llms import Ollama"
   ]
  },
  {
   "cell_type": "code",
   "execution_count": null,
   "metadata": {},
   "outputs": [],
   "source": [
    "pdf_path = \"./paper_pdf/paper.pdf\"\n",
    "loader = PyPDFLoader(pdf_path)\n",
    "pages = loader.load_and_split()\n",
    "print(pages[0].page_content)"
   ]
  },
  {
   "cell_type": "code",
   "execution_count": null,
   "metadata": {},
   "outputs": [],
   "source": []
  },
  {
   "cell_type": "code",
   "execution_count": 5,
   "metadata": {},
   "outputs": [],
   "source": [
    "llm = Ollama(\n",
    "    model=\"mistral:latest\",\n",
    "    callback_manager=CallbackManager([StreamingStdOutCallbackHandler()]),\n",
    ")"
   ]
  },
  {
   "cell_type": "code",
   "execution_count": 6,
   "metadata": {},
   "outputs": [
    {
     "name": "stdout",
     "output_type": "stream",
     "text": [
      " The history of Artificial Intelligence (AI) can be traced back to the mid-20th century, when researchers and scientists began exploring the possibility of creating machines that could think and learn like humans. Here are some key milestones in the development of AI:\n",
      "\n",
      "1. Alan Turing (1950): Alan Turing is considered the father of computer science and artificial intelligence. In 1950, he published a paper titled \"Computing Machinery and Intelligence,\" where he proposed the concept of a \"Universal Machine\" that could perform any computational task if provided with the right instructions and data. Turing also introduced the concept of the \"Turing Test,\" which measures a machine's ability to imitate human intelligence by engaging in natural language conversation with a human evaluator.\n",
      "2. Marvin Minsky (1956): Marvin Minsky, a pioneer in AI research, co-founded the Massachusetts Institute of Technology's Artificial Intelligence Laboratory (MIT AI Lab) in 1958. In 1956, he published a paper with John McCarthy introducing the concept of \"Artificial Intelligence,\" defining it as the science and engineering of making intelligent machines.\n",
      "3. Early Research (1950s-1960s): During this period, researchers focused on developing AI systems based on symbolic representation and rule-based logic. One notable project was the Dartmouth Conference in 1956, which brought together some of the brightest minds in computer science to discuss the possibilities of AI.\n",
      "4. AI Winter (1970s): During the 1970s, there was a period of reduced funding and interest in AI research due to the failure of early projects to deliver on their promises. This is now referred to as the \"AI Winter.\"\n",
      "5. Revival of AI (1980s-Present): The late 1970s and 1980s saw a resurgence of interest in AI, with a shift towards more complex approaches such as machine learning, neural networks, and deep learning. These methods allowed machines to learn from data and improve their performance over time, leading to significant advancements in areas such as image recognition, speech recognition, and natural language processing.\n",
      "6. Modern AI (1990s-Present): Since the 1990s, AI has continued to advance at an incredible rate, with breakthroughs in areas such as robotics, autonomous vehicles, virtual assistants, and game playing (e.g., AlphaGo). Today, AI is a critical component of many industries and applications, and it continues to transform the way we live and work."
     ]
    },
    {
     "data": {
      "text/plain": [
       "' The history of Artificial Intelligence (AI) can be traced back to the mid-20th century, when researchers and scientists began exploring the possibility of creating machines that could think and learn like humans. Here are some key milestones in the development of AI:\\n\\n1. Alan Turing (1950): Alan Turing is considered the father of computer science and artificial intelligence. In 1950, he published a paper titled \"Computing Machinery and Intelligence,\" where he proposed the concept of a \"Universal Machine\" that could perform any computational task if provided with the right instructions and data. Turing also introduced the concept of the \"Turing Test,\" which measures a machine\\'s ability to imitate human intelligence by engaging in natural language conversation with a human evaluator.\\n2. Marvin Minsky (1956): Marvin Minsky, a pioneer in AI research, co-founded the Massachusetts Institute of Technology\\'s Artificial Intelligence Laboratory (MIT AI Lab) in 1958. In 1956, he published a paper with John McCarthy introducing the concept of \"Artificial Intelligence,\" defining it as the science and engineering of making intelligent machines.\\n3. Early Research (1950s-1960s): During this period, researchers focused on developing AI systems based on symbolic representation and rule-based logic. One notable project was the Dartmouth Conference in 1956, which brought together some of the brightest minds in computer science to discuss the possibilities of AI.\\n4. AI Winter (1970s): During the 1970s, there was a period of reduced funding and interest in AI research due to the failure of early projects to deliver on their promises. This is now referred to as the \"AI Winter.\"\\n5. Revival of AI (1980s-Present): The late 1970s and 1980s saw a resurgence of interest in AI, with a shift towards more complex approaches such as machine learning, neural networks, and deep learning. These methods allowed machines to learn from data and improve their performance over time, leading to significant advancements in areas such as image recognition, speech recognition, and natural language processing.\\n6. Modern AI (1990s-Present): Since the 1990s, AI has continued to advance at an incredible rate, with breakthroughs in areas such as robotics, autonomous vehicles, virtual assistants, and game playing (e.g., AlphaGo). Today, AI is a critical component of many industries and applications, and it continues to transform the way we live and work.'"
      ]
     },
     "execution_count": 6,
     "metadata": {},
     "output_type": "execute_result"
    }
   ],
   "source": [
    "llm(\"Tell me about the history of AI\")"
   ]
  }
 ],
 "metadata": {
  "kernelspec": {
   "display_name": "wisdom-mlab",
   "language": "python",
   "name": "python3"
  },
  "language_info": {
   "codemirror_mode": {
    "name": "ipython",
    "version": 3
   },
   "file_extension": ".py",
   "mimetype": "text/x-python",
   "name": "python",
   "nbconvert_exporter": "python",
   "pygments_lexer": "ipython3",
   "version": "3.12.1"
  }
 },
 "nbformat": 4,
 "nbformat_minor": 2
}
